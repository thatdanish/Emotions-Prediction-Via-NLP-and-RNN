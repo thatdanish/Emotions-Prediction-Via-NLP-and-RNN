{
 "cells": [
  {
   "cell_type": "code",
   "execution_count": 38,
   "metadata": {},
   "outputs": [],
   "source": [
    "import keras \n",
    "import pandas as pd\n",
    "import numpy as np\n",
    "from tqdm import tqdm\n",
    "import matplotlib.pyplot as plt\n"
   ]
  },
  {
   "cell_type": "code",
   "execution_count": 39,
   "metadata": {},
   "outputs": [],
   "source": [
    "data_train = pd.read_csv('train.txt',sep=\";\")\n",
    "data_test = pd.read_csv(\"test.txt\",sep=\";\")\n",
    "data_val = pd.read_csv(\"val.txt\",sep=\";\")"
   ]
  },
  {
   "cell_type": "code",
   "execution_count": 40,
   "metadata": {},
   "outputs": [],
   "source": [
    "data_train.rename(columns = {'i didnt feel humiliated':\"Statements\",'sadness':\"Emotions\"},inplace = True)\n",
    "data_test.rename(columns = {'im feeling rather rotten so im not very ambitious right now':'Statements','sadness':'Emotions'},inplace = True)\n",
    "data_val.rename(columns = {'im feeling quite sad and sorry for myself but ill snap out of it soon':\"Statements\",'sadness':\"Emotions\"},inplace = True)"
   ]
  },
  {
   "cell_type": "code",
   "execution_count": 41,
   "metadata": {},
   "outputs": [
    {
     "data": {
      "text/html": [
       "<div>\n",
       "<style scoped>\n",
       "    .dataframe tbody tr th:only-of-type {\n",
       "        vertical-align: middle;\n",
       "    }\n",
       "\n",
       "    .dataframe tbody tr th {\n",
       "        vertical-align: top;\n",
       "    }\n",
       "\n",
       "    .dataframe thead th {\n",
       "        text-align: right;\n",
       "    }\n",
       "</style>\n",
       "<table border=\"1\" class=\"dataframe\">\n",
       "  <thead>\n",
       "    <tr style=\"text-align: right;\">\n",
       "      <th></th>\n",
       "      <th>Statements</th>\n",
       "      <th>Emotions</th>\n",
       "    </tr>\n",
       "  </thead>\n",
       "  <tbody>\n",
       "    <tr>\n",
       "      <th>0</th>\n",
       "      <td>im updating my blog because i feel shitty</td>\n",
       "      <td>sadness</td>\n",
       "    </tr>\n",
       "    <tr>\n",
       "      <th>1</th>\n",
       "      <td>i never make her separate from me because i do...</td>\n",
       "      <td>sadness</td>\n",
       "    </tr>\n",
       "    <tr>\n",
       "      <th>2</th>\n",
       "      <td>i left with my bouquet of red and yellow tulip...</td>\n",
       "      <td>joy</td>\n",
       "    </tr>\n",
       "    <tr>\n",
       "      <th>3</th>\n",
       "      <td>i was feeling a little vain when i did this one</td>\n",
       "      <td>sadness</td>\n",
       "    </tr>\n",
       "    <tr>\n",
       "      <th>4</th>\n",
       "      <td>i cant walk into a shop anywhere where i do no...</td>\n",
       "      <td>fear</td>\n",
       "    </tr>\n",
       "    <tr>\n",
       "      <th>5</th>\n",
       "      <td>i felt anger when at the end of a telephone call</td>\n",
       "      <td>anger</td>\n",
       "    </tr>\n",
       "    <tr>\n",
       "      <th>6</th>\n",
       "      <td>i explain why i clung to a relationship with a...</td>\n",
       "      <td>joy</td>\n",
       "    </tr>\n",
       "    <tr>\n",
       "      <th>7</th>\n",
       "      <td>i like to have the same breathless feeling as ...</td>\n",
       "      <td>joy</td>\n",
       "    </tr>\n",
       "    <tr>\n",
       "      <th>8</th>\n",
       "      <td>i jest i feel grumpy tired and pre menstrual w...</td>\n",
       "      <td>anger</td>\n",
       "    </tr>\n",
       "    <tr>\n",
       "      <th>9</th>\n",
       "      <td>i don t feel particularly agitated</td>\n",
       "      <td>fear</td>\n",
       "    </tr>\n",
       "  </tbody>\n",
       "</table>\n",
       "</div>"
      ],
      "text/plain": [
       "                                          Statements Emotions\n",
       "0          im updating my blog because i feel shitty  sadness\n",
       "1  i never make her separate from me because i do...  sadness\n",
       "2  i left with my bouquet of red and yellow tulip...      joy\n",
       "3    i was feeling a little vain when i did this one  sadness\n",
       "4  i cant walk into a shop anywhere where i do no...     fear\n",
       "5   i felt anger when at the end of a telephone call    anger\n",
       "6  i explain why i clung to a relationship with a...      joy\n",
       "7  i like to have the same breathless feeling as ...      joy\n",
       "8  i jest i feel grumpy tired and pre menstrual w...    anger\n",
       "9                 i don t feel particularly agitated     fear"
      ]
     },
     "execution_count": 41,
     "metadata": {},
     "output_type": "execute_result"
    }
   ],
   "source": [
    "data_test.head(10)"
   ]
  },
  {
   "cell_type": "code",
   "execution_count": 42,
   "metadata": {},
   "outputs": [],
   "source": [
    "import nltk\n",
    "from nltk.tokenize import word_tokenize\n",
    "from nltk.corpus import stopwords\n",
    "from nltk.stem import WordNetLemmatizer\n",
    "import string"
   ]
  },
  {
   "cell_type": "code",
   "execution_count": 47,
   "metadata": {},
   "outputs": [],
   "source": [
    "def cleaning_statements(df):\n",
    "    clean_sentence = []\n",
    "    lemma = WordNetLemmatizer()\n",
    "    \n",
    "    for sent in tqdm(df['Statements']):\n",
    "        sent = sent.lower()\n",
    "        clean_sent = sent.translate(str.maketrans(\"\",\"\",string.punctuation))\n",
    "        words = word_tokenize(clean_sent)\n",
    "        clean_words = [i for i in words if i not in stopwords.words('english')]\n",
    "        lemma_words = [lemma.lemmatize(i) for i in clean_words]\n",
    "        \n",
    "        clean_sentence.append(lemma_words)\n",
    "        \n",
    "    return clean_sentence     \n",
    "        "
   ]
  },
  {
   "cell_type": "code",
   "execution_count": 48,
   "metadata": {},
   "outputs": [
    {
     "name": "stderr",
     "output_type": "stream",
     "text": [
      "100%|███████████████████████████████████████████████████████████████████████████| 15999/15999 [00:57<00:00, 280.49it/s]\n",
      "100%|█████████████████████████████████████████████████████████████████████████████| 1999/1999 [00:07<00:00, 281.07it/s]\n"
     ]
    }
   ],
   "source": [
    "train_sent = cleaning_statements(data_train)\n",
    "test_sent = cleaning_statements(data_test)"
   ]
  },
  {
   "cell_type": "code",
   "execution_count": 54,
   "metadata": {},
   "outputs": [],
   "source": [
    "from sklearn.preprocessing import LabelEncoder"
   ]
  },
  {
   "cell_type": "code",
   "execution_count": 56,
   "metadata": {},
   "outputs": [],
   "source": [
    "le = LabelEncoder()\n",
    "data_train[\"Emotions\"] = le.fit_transform(data_train[\"Emotions\"])\n",
    "data_test[\"Emotions\"] = le.transform(data_test[\"Emotions\"])\n",
    "data_val[\"Emotions\"] = le.transform(data_val[\"Emotions\"])"
   ]
  },
  {
   "cell_type": "code",
   "execution_count": 57,
   "metadata": {},
   "outputs": [],
   "source": [
    "from keras.utils import to_categorical"
   ]
  },
  {
   "cell_type": "code",
   "execution_count": 60,
   "metadata": {},
   "outputs": [],
   "source": [
    "y = data_train.Emotions.values\n",
    "y = to_categorical(y)\n",
    "num_classes = y.shape[1]"
   ]
  },
  {
   "cell_type": "code",
   "execution_count": 61,
   "metadata": {},
   "outputs": [],
   "source": [
    "from sklearn.model_selection import train_test_split"
   ]
  },
  {
   "cell_type": "code",
   "execution_count": 79,
   "metadata": {},
   "outputs": [],
   "source": [
    "x_train,x_test,y_train,y_test = train_test_split(train_sent,y,test_size=0.2,random_state =10,stratify=y)"
   ]
  },
  {
   "cell_type": "code",
   "execution_count": 80,
   "metadata": {},
   "outputs": [
    {
     "name": "stderr",
     "output_type": "stream",
     "text": [
      "100%|████████████████████████████████████████████████████████████████████████| 12799/12799 [00:00<00:00, 246797.49it/s]"
     ]
    },
    {
     "name": "stdout",
     "output_type": "stream",
     "text": [
      "11989\n",
      "35\n"
     ]
    },
    {
     "name": "stderr",
     "output_type": "stream",
     "text": [
      "\n"
     ]
    }
   ],
   "source": [
    "unique_words = set()\n",
    "len_max = 0\n",
    "\n",
    "for sent in tqdm(x_train):\n",
    "    unique_words.update(sent)\n",
    "    \n",
    "    if len_max < len(sent):\n",
    "        len_max = len(sent)\n",
    "        \n",
    "\n",
    "print(len(list(unique_words)))\n",
    "print(len_max)"
   ]
  },
  {
   "cell_type": "code",
   "execution_count": 81,
   "metadata": {},
   "outputs": [],
   "source": [
    "from keras.preprocessing import sequence\n",
    "from keras.preprocessing.text import Tokenizer"
   ]
  },
  {
   "cell_type": "code",
   "execution_count": 83,
   "metadata": {},
   "outputs": [],
   "source": [
    "tokenizer = Tokenizer(num_words = len(list(unique_words)))\n",
    "tokenizer.fit_on_texts(list(x_train))\n",
    "\n",
    "x_train = tokenizer.texts_to_sequences(x_train)\n",
    "x_test = tokenizer.texts_to_sequences(x_test)\n",
    "x_val = tokenizer.texts_to_sequences(test_sent)\n",
    "\n",
    "x_train = sequence.pad_sequences(x_train,maxlen=len_max)\n",
    "x_test = sequence.pad_sequences(x_test,maxlen=len_max)\n",
    "x_val = sequence.pad_sequences(x_val,maxlen=len_max)"
   ]
  },
  {
   "cell_type": "code",
   "execution_count": 84,
   "metadata": {},
   "outputs": [],
   "source": [
    "from keras.models import Sequential\n",
    "from keras.layers import Dense,LSTM,Embedding,Dropout"
   ]
  },
  {
   "cell_type": "code",
   "execution_count": 100,
   "metadata": {},
   "outputs": [
    {
     "name": "stdout",
     "output_type": "stream",
     "text": [
      "Model: \"sequential_8\"\n",
      "_________________________________________________________________\n",
      "Layer (type)                 Output Shape              Param #   \n",
      "=================================================================\n",
      "embedding_8 (Embedding)      (None, 35, 180)           2158020   \n",
      "_________________________________________________________________\n",
      "lstm_23 (LSTM)               (None, 35, 128)           158208    \n",
      "_________________________________________________________________\n",
      "lstm_24 (LSTM)               (None, 32)                20608     \n",
      "_________________________________________________________________\n",
      "dense_12 (Dense)             (None, 128)               4224      \n",
      "_________________________________________________________________\n",
      "dense_13 (Dense)             (None, 32)                4128      \n",
      "_________________________________________________________________\n",
      "dropout_6 (Dropout)          (None, 32)                0         \n",
      "_________________________________________________________________\n",
      "dense_14 (Dense)             (None, 6)                 198       \n",
      "=================================================================\n",
      "Total params: 2,345,386\n",
      "Trainable params: 2,345,386\n",
      "Non-trainable params: 0\n",
      "_________________________________________________________________\n"
     ]
    }
   ],
   "source": [
    "model = Sequential()\n",
    "\n",
    "model.add(Embedding(len(list(unique_words)),180,input_length=len_max))\n",
    "#model.add(LSTM(256,dropout=0.5,recurrent_dropout=0.5,return_sequences=True))\n",
    "model.add(LSTM(128,dropout=0.5,recurrent_dropout=0.5,return_sequences=True))\n",
    "#model.add(LSTM(64,dropout=0.5,recurrent_dropout=0.5,return_sequences=True))\n",
    "model.add(LSTM(32,dropout=0.5,recurrent_dropout=0.5,return_sequences=False))\n",
    "model.add(Dense(128,activation='relu'))\n",
    "model.add(Dense(32,activation='relu'))\n",
    "model.add(Dropout(0.5))\n",
    "model.add(Dense(num_classes,activation='softmax'))\n",
    "\n",
    "model.compile(loss='categorical_crossentropy',optimizer=\"Adam\",metrics=['accuracy'])\n",
    "model.summary()"
   ]
  },
  {
   "cell_type": "code",
   "execution_count": 101,
   "metadata": {},
   "outputs": [
    {
     "name": "stderr",
     "output_type": "stream",
     "text": [
      "C:\\Users\\danis\\Anaconda3\\lib\\site-packages\\tensorflow_core\\python\\framework\\indexed_slices.py:433: UserWarning: Converting sparse IndexedSlices to a dense Tensor of unknown shape. This may consume a large amount of memory.\n",
      "  \"Converting sparse IndexedSlices to a dense Tensor of unknown shape. \"\n"
     ]
    },
    {
     "name": "stdout",
     "output_type": "stream",
     "text": [
      "Train on 12799 samples, validate on 3200 samples\n",
      "Epoch 1/15\n",
      "12799/12799 [==============================] - 31s 2ms/step - loss: 1.6508 - accuracy: 0.3112 - val_loss: 1.5765 - val_accuracy: 0.3353\n",
      "Epoch 2/15\n",
      "12799/12799 [==============================] - 29s 2ms/step - loss: 1.5431 - accuracy: 0.3275 - val_loss: 1.3118 - val_accuracy: 0.3984\n",
      "Epoch 3/15\n",
      "12799/12799 [==============================] - 20s 2ms/step - loss: 1.1002 - accuracy: 0.5225 - val_loss: 0.8212 - val_accuracy: 0.6822\n",
      "Epoch 4/15\n",
      "12799/12799 [==============================] - 13s 989us/step - loss: 0.7367 - accuracy: 0.7115 - val_loss: 0.7299 - val_accuracy: 0.7250\n",
      "Epoch 5/15\n",
      "12799/12799 [==============================] - 15s 1ms/step - loss: 0.5902 - accuracy: 0.7550 - val_loss: 0.6553 - val_accuracy: 0.7600\n",
      "Epoch 6/15\n",
      "12799/12799 [==============================] - 13s 1ms/step - loss: 0.4977 - accuracy: 0.7847 - val_loss: 0.6379 - val_accuracy: 0.7541\n",
      "Epoch 7/15\n",
      "12799/12799 [==============================] - 12s 908us/step - loss: 0.4369 - accuracy: 0.8018 - val_loss: 0.6528 - val_accuracy: 0.7703\n",
      "Epoch 8/15\n",
      "12799/12799 [==============================] - 13s 991us/step - loss: 0.3888 - accuracy: 0.8227 - val_loss: 0.6506 - val_accuracy: 0.8172\n",
      "Epoch 9/15\n",
      "12799/12799 [==============================] - 12s 920us/step - loss: 0.3443 - accuracy: 0.8555 - val_loss: 0.6033 - val_accuracy: 0.8506\n",
      "Epoch 10/15\n",
      "12799/12799 [==============================] - 12s 940us/step - loss: 0.2952 - accuracy: 0.8860 - val_loss: 0.6215 - val_accuracy: 0.8672\n",
      "Epoch 11/15\n",
      "12799/12799 [==============================] - 12s 918us/step - loss: 0.2550 - accuracy: 0.9074 - val_loss: 0.5736 - val_accuracy: 0.8706\n",
      "Epoch 12/15\n",
      "12799/12799 [==============================] - 12s 918us/step - loss: 0.2232 - accuracy: 0.9168 - val_loss: 0.6223 - val_accuracy: 0.8731\n",
      "Epoch 13/15\n",
      "12799/12799 [==============================] - 12s 930us/step - loss: 0.2066 - accuracy: 0.9216 - val_loss: 0.6024 - val_accuracy: 0.8734\n",
      "Epoch 14/15\n",
      "12799/12799 [==============================] - 13s 994us/step - loss: 0.1825 - accuracy: 0.9359 - val_loss: 0.6626 - val_accuracy: 0.8744\n",
      "Epoch 15/15\n",
      "12799/12799 [==============================] - 12s 945us/step - loss: 0.1704 - accuracy: 0.9373 - val_loss: 0.6140 - val_accuracy: 0.8712\n"
     ]
    }
   ],
   "source": [
    "history = model.fit(x_train,y_train,validation_data=(x_test,y_test),epochs=15,batch_size=128)"
   ]
  },
  {
   "cell_type": "markdown",
   "metadata": {},
   "source": [
    "## Accuracy and Loss Visualisation :"
   ]
  },
  {
   "cell_type": "code",
   "execution_count": 103,
   "metadata": {},
   "outputs": [
    {
     "data": {
      "image/png": "[encoded data removed]",
      "text/plain": [
       "<Figure size 432x288 with 1 Axes>"
      ]
     },
     "metadata": {
      "needs_background": "light"
     },
     "output_type": "display_data"
    }
   ],
   "source": [
    "epoch_count = range(1,len(history.history[\"loss\"])+1)\n",
    "\n",
    "plt.plot(epoch_count,history.history[\"loss\"])\n",
    "plt.xlabel(\"Epochs\")\n",
    "plt.ylabel(\"Loss\")\n",
    "plt.show()"
   ]
  },
  {
   "cell_type": "code",
   "execution_count": 105,
   "metadata": {},
   "outputs": [
    {
     "data": {
      "image/png": "[encoded data removed]",
      "text/plain": [
       "<Figure size 432x288 with 1 Axes>"
      ]
     },
     "metadata": {
      "needs_background": "light"
     },
     "output_type": "display_data"
    }
   ],
   "source": [
    "plt.plot(epoch_count,history.history[\"accuracy\"])\n",
    "plt.xlabel(\"Epochs\")\n",
    "plt.ylabel(\"accuracy\")\n",
    "plt.show()"
   ]
  },
  {
   "cell_type": "code",
   "execution_count": 106,
   "metadata": {},
   "outputs": [
    {
     "data": {
      "image/png": "[encoded data removed]",
      "text/plain": [
       "<Figure size 432x288 with 1 Axes>"
      ]
     },
     "metadata": {
      "needs_background": "light"
     },
     "output_type": "display_data"
    }
   ],
   "source": [
    "plt.plot(epoch_count,history.history[\"val_accuracy\"])\n",
    "plt.xlabel(\"Epochs\")\n",
    "plt.ylabel(\"Validation Accurcay\")\n",
    "plt.show()"
   ]
  },
  {
   "cell_type": "code",
   "execution_count": 107,
   "metadata": {},
   "outputs": [
    {
     "data": {
      "image/png": "[encoded data removed]",
      "text/plain": [
       "<Figure size 432x288 with 1 Axes>"
      ]
     },
     "metadata": {
      "needs_background": "light"
     },
     "output_type": "display_data"
    }
   ],
   "source": [
    "plt.plot(epoch_count,history.history[\"val_loss\"])\n",
    "plt.xlabel(\"Epochs\")\n",
    "plt.ylabel(\"Validation Loss\")\n",
    "plt.show()"
   ]
  },
  {
   "cell_type": "code",
   "execution_count": 108,
   "metadata": {},
   "outputs": [],
   "source": [
    "from sklearn.metrics import classification_report,confusion_matrix,accuracy_score"
   ]
  },
  {
   "cell_type": "code",
   "execution_count": 109,
   "metadata": {},
   "outputs": [],
   "source": [
    "y_pred = model.predict_classes(x_val)"
   ]
  },
  {
   "cell_type": "code",
   "execution_count": 111,
   "metadata": {},
   "outputs": [
    {
     "data": {
      "text/plain": [
       "'              precision    recall  f1-score   support\\n\\n           0       0.12      0.12      0.12       275\\n           1       0.12      0.12      0.12       212\\n           2       0.37      0.35      0.36       704\\n           3       0.06      0.07      0.06       178\\n           4       0.30      0.31      0.30       549\\n           5       0.03      0.02      0.03        81\\n\\n    accuracy                           0.25      1999\\n   macro avg       0.17      0.17      0.17      1999\\nweighted avg       0.25      0.25      0.25      1999\\n'"
      ]
     },
     "execution_count": 111,
     "metadata": {},
     "output_type": "execute_result"
    }
   ],
   "source": [
    "classification_report(data_val['Emotions'],y_pred)"
   ]
  },
  {
   "cell_type": "markdown",
   "metadata": {},
   "source": [
    "## Predictions :"
   ]
  },
  {
   "cell_type": "markdown",
   "metadata": {},
   "source": [
    "### 1"
   ]
  },
  {
   "cell_type": "code",
   "execution_count": 115,
   "metadata": {},
   "outputs": [],
   "source": [
    "predictions = pd.read_csv(\"predictions.txt\")"
   ]
  },
  {
   "cell_type": "code",
   "execution_count": 116,
   "metadata": {},
   "outputs": [
    {
     "data": {
      "text/html": [
       "<div>\n",
       "<style scoped>\n",
       "    .dataframe tbody tr th:only-of-type {\n",
       "        vertical-align: middle;\n",
       "    }\n",
       "\n",
       "    .dataframe tbody tr th {\n",
       "        vertical-align: top;\n",
       "    }\n",
       "\n",
       "    .dataframe thead th {\n",
       "        text-align: right;\n",
       "    }\n",
       "</style>\n",
       "<table border=\"1\" class=\"dataframe\">\n",
       "  <thead>\n",
       "    <tr style=\"text-align: right;\">\n",
       "      <th></th>\n",
       "      <th>Statements</th>\n",
       "    </tr>\n",
       "  </thead>\n",
       "  <tbody>\n",
       "    <tr>\n",
       "      <th>0</th>\n",
       "      <td>i walked out of there an hour and fifteen minu...</td>\n",
       "    </tr>\n",
       "    <tr>\n",
       "      <th>1</th>\n",
       "      <td>i feel try to tell me im ungrateful tell me im...</td>\n",
       "    </tr>\n",
       "    <tr>\n",
       "      <th>2</th>\n",
       "      <td>i feel like im caring about my body not in jus...</td>\n",
       "    </tr>\n",
       "    <tr>\n",
       "      <th>3</th>\n",
       "      <td>i know it so difficult especially when you fee...</td>\n",
       "    </tr>\n",
       "    <tr>\n",
       "      <th>4</th>\n",
       "      <td>i see the starlight caress your hair no more f...</td>\n",
       "    </tr>\n",
       "  </tbody>\n",
       "</table>\n",
       "</div>"
      ],
      "text/plain": [
       "                                          Statements\n",
       "0  i walked out of there an hour and fifteen minu...\n",
       "1  i feel try to tell me im ungrateful tell me im...\n",
       "2  i feel like im caring about my body not in jus...\n",
       "3  i know it so difficult especially when you fee...\n",
       "4  i see the starlight caress your hair no more f..."
      ]
     },
     "execution_count": 116,
     "metadata": {},
     "output_type": "execute_result"
    }
   ],
   "source": [
    "predictions.head()"
   ]
  },
  {
   "cell_type": "code",
   "execution_count": 121,
   "metadata": {},
   "outputs": [
    {
     "name": "stderr",
     "output_type": "stream",
     "text": [
      "100%|███████████████████████████████████████████████████████████████████████████████████| 5/5 [00:00<00:00, 200.53it/s]\n"
     ]
    }
   ],
   "source": [
    "pred_sent = cleaning_statements(predictions)\n",
    "pred_sent = tokenizer.texts_to_sequences(pred_sent)\n",
    "pred_sent = sequence.pad_sequences(pred_sent,maxlen=len_max)"
   ]
  },
  {
   "cell_type": "code",
   "execution_count": 122,
   "metadata": {},
   "outputs": [],
   "source": [
    "y_prediction = model.predict_classes(pred_sent)"
   ]
  },
  {
   "cell_type": "code",
   "execution_count": 131,
   "metadata": {},
   "outputs": [
    {
     "name": "stdout",
     "output_type": "stream",
     "text": [
      "['sadness' 'sadness' 'love' 'anger' 'love']\n"
     ]
    }
   ],
   "source": [
    "print(le.inverse_transform(y_prediction))"
   ]
  },
  {
   "cell_type": "markdown",
   "metadata": {},
   "source": [
    "### 2"
   ]
  },
  {
   "cell_type": "code",
   "execution_count": 136,
   "metadata": {},
   "outputs": [],
   "source": [
    "predictions2 = pd.read_csv('predictions2.txt',sep=';')"
   ]
  },
  {
   "cell_type": "code",
   "execution_count": 137,
   "metadata": {},
   "outputs": [
    {
     "data": {
      "text/html": [
       "<div>\n",
       "<style scoped>\n",
       "    .dataframe tbody tr th:only-of-type {\n",
       "        vertical-align: middle;\n",
       "    }\n",
       "\n",
       "    .dataframe tbody tr th {\n",
       "        vertical-align: top;\n",
       "    }\n",
       "\n",
       "    .dataframe thead th {\n",
       "        text-align: right;\n",
       "    }\n",
       "</style>\n",
       "<table border=\"1\" class=\"dataframe\">\n",
       "  <thead>\n",
       "    <tr style=\"text-align: right;\">\n",
       "      <th></th>\n",
       "      <th>Statements</th>\n",
       "    </tr>\n",
       "  </thead>\n",
       "  <tbody>\n",
       "    <tr>\n",
       "      <th>0</th>\n",
       "      <td>I think i am going to be very successful very ...</td>\n",
       "    </tr>\n",
       "    <tr>\n",
       "      <th>1</th>\n",
       "      <td>i feel like empty inside... nothing has any me...</td>\n",
       "    </tr>\n",
       "    <tr>\n",
       "      <th>2</th>\n",
       "      <td>i cannot belive that it has come to this , thi...</td>\n",
       "    </tr>\n",
       "    <tr>\n",
       "      <th>3</th>\n",
       "      <td>Your hair like a winter fire, january embers, ...</td>\n",
       "    </tr>\n",
       "    <tr>\n",
       "      <th>4</th>\n",
       "      <td>this is such a great news for everone involved...</td>\n",
       "    </tr>\n",
       "  </tbody>\n",
       "</table>\n",
       "</div>"
      ],
      "text/plain": [
       "                                          Statements\n",
       "0  I think i am going to be very successful very ...\n",
       "1  i feel like empty inside... nothing has any me...\n",
       "2  i cannot belive that it has come to this , thi...\n",
       "3  Your hair like a winter fire, january embers, ...\n",
       "4  this is such a great news for everone involved..."
      ]
     },
     "execution_count": 137,
     "metadata": {},
     "output_type": "execute_result"
    }
   ],
   "source": [
    "predictions2.head()"
   ]
  },
  {
   "cell_type": "code",
   "execution_count": 140,
   "metadata": {},
   "outputs": [
    {
     "name": "stderr",
     "output_type": "stream",
     "text": [
      "100%|███████████████████████████████████████████████████████████████████████████████████| 5/5 [00:00<00:00, 385.63it/s]\n"
     ]
    }
   ],
   "source": [
    "pred2_sent = cleaning_statements(predictions2)\n",
    "pred2_sent = tokenizer.texts_to_sequences(pred2_sent)\n",
    "pred2_sent = sequence.pad_sequences(pred2_sent,maxlen=len_max)"
   ]
  },
  {
   "cell_type": "code",
   "execution_count": 142,
   "metadata": {},
   "outputs": [
    {
     "name": "stdout",
     "output_type": "stream",
     "text": [
      "['joy' 'sadness' 'anger' 'joy' 'sadness']\n"
     ]
    }
   ],
   "source": [
    "y_predictions2 = model.predict_classes(pred2_sent)\n",
    "print(le.inverse_transform(y_predictions2))"
   ]
  },
  {
   "cell_type": "code",
   "execution_count": null,
   "metadata": {},
   "outputs": [],
   "source": []
  }
 ],
 "metadata": {
  "kernelspec": {
   "display_name": "Python 3",
   "language": "python",
   "name": "python3"
  },
  "language_info": {
   "codemirror_mode": {
    "name": "ipython",
    "version": 3
   },
   "file_extension": ".py",
   "mimetype": "text/x-python",
   "name": "python",
   "nbconvert_exporter": "python",
   "pygments_lexer": "ipython3",
   "version": "3.7.4"
  }
 },
 "nbformat": 4,
 "nbformat_minor": 4
}
